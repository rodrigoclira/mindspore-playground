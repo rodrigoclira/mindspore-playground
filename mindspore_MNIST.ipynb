{
  "nbformat": 4,
  "nbformat_minor": 0,
  "metadata": {
    "colab": {
      "name": "mindspore_gettingstarted.ipynb",
      "provenance": []
    },
    "kernelspec": {
      "name": "python3",
      "display_name": "Python 3"
    },
    "language_info": {
      "name": "python"
    },
    "accelerator": "GPU",
    "gpuClass": "standard"
  },
  "cells": [
    {
      "cell_type": "markdown",
      "source": [
        "# Predicting MNIST with MindSpore \n",
        "\n",
        "https://github.com/SauravTelge/Mindspore-DL-Framework/blob/main/mindspore_MNIST.ipynb"
      ],
      "metadata": {
        "id": "Pk7dkxTdKT4W"
      }
    },
    {
      "cell_type": "markdown",
      "source": [
        "Installing MindSpore using pip"
      ],
      "metadata": {
        "id": "clChycKlKety"
      }
    },
    {
      "cell_type": "code",
      "source": [
        "!pip install mindspore"
      ],
      "metadata": {
        "colab": {
          "base_uri": "https://localhost:8080/"
        },
        "id": "mSovoTrWEcPa",
        "outputId": "8995feed-dca8-42ba-8009-9f3df1245678"
      },
      "execution_count": 5,
      "outputs": [
        {
          "output_type": "stream",
          "name": "stdout",
          "text": [
            "Looking in indexes: https://pypi.org/simple, https://us-python.pkg.dev/colab-wheels/public/simple/\n",
            "Requirement already satisfied: mindspore in /usr/local/lib/python3.8/dist-packages (1.10.0)\n",
            "Requirement already satisfied: pillow>=6.2.0 in /usr/local/lib/python3.8/dist-packages (from mindspore) (8.4.0)\n",
            "Requirement already satisfied: numpy>=1.17.0 in /usr/local/lib/python3.8/dist-packages (from mindspore) (1.22.4)\n",
            "Requirement already satisfied: asttokens>=2.0.4 in /usr/local/lib/python3.8/dist-packages (from mindspore) (2.2.1)\n",
            "Requirement already satisfied: astunparse>=1.6.3 in /usr/local/lib/python3.8/dist-packages (from mindspore) (1.6.3)\n",
            "Requirement already satisfied: scipy>=1.5.2 in /usr/local/lib/python3.8/dist-packages (from mindspore) (1.7.3)\n",
            "Requirement already satisfied: psutil>=5.6.1 in /usr/local/lib/python3.8/dist-packages (from mindspore) (5.9.4)\n",
            "Requirement already satisfied: packaging>=20.0 in /usr/local/lib/python3.8/dist-packages (from mindspore) (23.0)\n",
            "Requirement already satisfied: protobuf>=3.13.0 in /usr/local/lib/python3.8/dist-packages (from mindspore) (3.19.6)\n",
            "Requirement already satisfied: six in /usr/local/lib/python3.8/dist-packages (from asttokens>=2.0.4->mindspore) (1.15.0)\n",
            "Requirement already satisfied: wheel<1.0,>=0.23.0 in /usr/local/lib/python3.8/dist-packages (from astunparse>=1.6.3->mindspore) (0.38.4)\n"
          ]
        }
      ]
    },
    {
      "cell_type": "code",
      "source": [
        "!pip install mindspore-gpu"
      ],
      "metadata": {
        "colab": {
          "base_uri": "https://localhost:8080/",
          "height": 522
        },
        "id": "InXSCIcxOdUZ",
        "outputId": "46890d92-090f-4944-9099-1639b051470f"
      },
      "execution_count": 2,
      "outputs": [
        {
          "output_type": "stream",
          "name": "stdout",
          "text": [
            "Looking in indexes: https://pypi.org/simple, https://us-python.pkg.dev/colab-wheels/public/simple/\n",
            "Collecting mindspore-gpu\n",
            "  Downloading mindspore_gpu-1.10.0-cp38-cp38-manylinux1_x86_64.whl (345.1 MB)\n",
            "\u001b[2K     \u001b[90m━━━━━━━━━━━━━━━━━━━━━━━━━━━━━━━━━━━━━━━\u001b[0m \u001b[32m345.1/345.1 MB\u001b[0m \u001b[31m3.4 MB/s\u001b[0m eta \u001b[36m0:00:00\u001b[0m\n",
            "\u001b[?25hRequirement already satisfied: numpy>=1.17.0 in /usr/local/lib/python3.8/dist-packages (from mindspore-gpu) (1.22.4)\n",
            "Requirement already satisfied: astunparse>=1.6.3 in /usr/local/lib/python3.8/dist-packages (from mindspore-gpu) (1.6.3)\n",
            "Collecting psutil>=5.6.1\n",
            "  Downloading psutil-5.9.4-cp36-abi3-manylinux_2_12_x86_64.manylinux2010_x86_64.manylinux_2_17_x86_64.manylinux2014_x86_64.whl (280 kB)\n",
            "\u001b[2K     \u001b[90m━━━━━━━━━━━━━━━━━━━━━━━━━━━━━━━━━━━━━━\u001b[0m \u001b[32m280.2/280.2 KB\u001b[0m \u001b[31m35.8 MB/s\u001b[0m eta \u001b[36m0:00:00\u001b[0m\n",
            "\u001b[?25hCollecting asttokens>=2.0.4\n",
            "  Downloading asttokens-2.2.1-py2.py3-none-any.whl (26 kB)\n",
            "Requirement already satisfied: protobuf>=3.13.0 in /usr/local/lib/python3.8/dist-packages (from mindspore-gpu) (3.19.6)\n",
            "Requirement already satisfied: scipy>=1.5.2 in /usr/local/lib/python3.8/dist-packages (from mindspore-gpu) (1.7.3)\n",
            "Requirement already satisfied: packaging>=20.0 in /usr/local/lib/python3.8/dist-packages (from mindspore-gpu) (23.0)\n",
            "Requirement already satisfied: pillow>=6.2.0 in /usr/local/lib/python3.8/dist-packages (from mindspore-gpu) (8.4.0)\n",
            "Requirement already satisfied: six in /usr/local/lib/python3.8/dist-packages (from asttokens>=2.0.4->mindspore-gpu) (1.15.0)\n",
            "Requirement already satisfied: wheel<1.0,>=0.23.0 in /usr/local/lib/python3.8/dist-packages (from astunparse>=1.6.3->mindspore-gpu) (0.38.4)\n",
            "Installing collected packages: psutil, asttokens, mindspore-gpu\n",
            "  Attempting uninstall: psutil\n",
            "    Found existing installation: psutil 5.4.8\n",
            "    Uninstalling psutil-5.4.8:\n",
            "      Successfully uninstalled psutil-5.4.8\n",
            "Successfully installed asttokens-2.2.1 mindspore-gpu-1.10.0 psutil-5.9.4\n"
          ]
        },
        {
          "output_type": "display_data",
          "data": {
            "application/vnd.colab-display-data+json": {
              "pip_warning": {
                "packages": [
                  "psutil"
                ]
              }
            }
          },
          "metadata": {}
        }
      ]
    },
    {
      "cell_type": "markdown",
      "source": [
        "Checking the installation and mindspore version"
      ],
      "metadata": {
        "id": "PqiCVmD_KlA4"
      }
    },
    {
      "cell_type": "code",
      "metadata": {
        "colab": {
          "base_uri": "https://localhost:8080/"
        },
        "id": "LrCxyIfKOGRm",
        "outputId": "d7c00cdd-dca9-45b0-832f-0cb1ecc44702"
      },
      "source": [
        "!python -c \"import mindspore;print(mindspore.__version__)\""
      ],
      "execution_count": 6,
      "outputs": [
        {
          "output_type": "stream",
          "name": "stdout",
          "text": [
            "1.10.0\n"
          ]
        }
      ]
    },
    {
      "cell_type": "code",
      "source": [
        "!python -c \"import mindspore;print(mindspore.__version__)\""
      ],
      "metadata": {
        "colab": {
          "base_uri": "https://localhost:8080/"
        },
        "id": "fN5yEfqIO0dE",
        "outputId": "3f809651-854a-4d30-c1ce-bb7cc6b2bfa9"
      },
      "execution_count": 3,
      "outputs": [
        {
          "output_type": "stream",
          "name": "stdout",
          "text": [
            "[WARNING] ME(723:140088711931712,MainProcess):2023-03-02-16:54:11.305.872 [mindspore/run_check/_check_version.py:79] MindSpore version 1.10.0 and cuda version 11.8.89 does not match, CUDA version [['10.1', '11.1', '11.6']] are supported by MindSpore officially. Please refer to the installation guide for version matching information: https://www.mindspore.cn/install.\n",
            "1.10.0\n"
          ]
        }
      ]
    },
    {
      "cell_type": "markdown",
      "source": [
        "# Loading MNIST Dataset"
      ],
      "metadata": {
        "id": "bKRt725uM5KR"
      }
    },
    {
      "cell_type": "markdown",
      "source": [
        "Creating folders and downloading MNIST dataset"
      ],
      "metadata": {
        "id": "WRWAO42IKxMP"
      }
    },
    {
      "cell_type": "code",
      "source": [
        "!apt-get install tree # installing auxiliary software"
      ],
      "metadata": {
        "colab": {
          "base_uri": "https://localhost:8080/"
        },
        "id": "xJ_RlvdVK8YJ",
        "outputId": "e57f9e37-1eb5-4e10-943b-2460274760c3"
      },
      "execution_count": 5,
      "outputs": [
        {
          "output_type": "stream",
          "name": "stdout",
          "text": [
            "Reading package lists... Done\n",
            "Building dependency tree       \n",
            "Reading state information... Done\n",
            "The following NEW packages will be installed:\n",
            "  tree\n",
            "0 upgraded, 1 newly installed, 0 to remove and 19 not upgraded.\n",
            "Need to get 43.0 kB of archives.\n",
            "After this operation, 115 kB of additional disk space will be used.\n",
            "Get:1 http://archive.ubuntu.com/ubuntu focal/universe amd64 tree amd64 1.8.0-1 [43.0 kB]\n",
            "Fetched 43.0 kB in 1s (54.0 kB/s)\n",
            "Selecting previously unselected package tree.\n",
            "(Reading database ... 128221 files and directories currently installed.)\n",
            "Preparing to unpack .../tree_1.8.0-1_amd64.deb ...\n",
            "Unpacking tree (1.8.0-1) ...\n",
            "Setting up tree (1.8.0-1) ...\n",
            "Processing triggers for man-db (2.9.1-1) ...\n"
          ]
        }
      ]
    },
    {
      "cell_type": "code",
      "metadata": {
        "colab": {
          "base_uri": "https://localhost:8080/"
        },
        "id": "YF8nlfIHPPkz",
        "outputId": "f68dffb8-b990-4eeb-eadc-770d46def9db"
      },
      "source": [
        "!mkdir -p ./datasets/MNIST_Data/train ./datasets/MNIST_Data/test\n",
        "!wget -NP ./datasets/MNIST_Data/train https://mindspore-website.obs.myhuaweicloud.com/notebook/datasets/mnist/train-labels-idx1-ubyte --no-check-certificate\n",
        "!wget -NP ./datasets/MNIST_Data/train https://mindspore-website.obs.myhuaweicloud.com/notebook/datasets/mnist/train-images-idx3-ubyte --no-check-certificate\n",
        "!wget -NP ./datasets/MNIST_Data/test https://mindspore-website.obs.myhuaweicloud.com/notebook/datasets/mnist/t10k-labels-idx1-ubyte --no-check-certificate\n",
        "!wget -NP ./datasets/MNIST_Data/test https://mindspore-website.obs.myhuaweicloud.com/notebook/datasets/mnist/t10k-images-idx3-ubyte --no-check-certificate\n",
        "!tree ./datasets/MNIST_Data"
      ],
      "execution_count": 6,
      "outputs": [
        {
          "output_type": "stream",
          "name": "stdout",
          "text": [
            "--2023-03-02 16:54:55--  https://mindspore-website.obs.myhuaweicloud.com/notebook/datasets/mnist/train-labels-idx1-ubyte\n",
            "Resolving mindspore-website.obs.myhuaweicloud.com (mindspore-website.obs.myhuaweicloud.com)... 121.36.121.84, 49.4.112.92, 49.4.112.91\n",
            "Connecting to mindspore-website.obs.myhuaweicloud.com (mindspore-website.obs.myhuaweicloud.com)|121.36.121.84|:443... connected.\n",
            "HTTP request sent, awaiting response... 200 OK\n",
            "Length: 60008 (59K) [binary/octet-stream]\n",
            "Saving to: ‘./datasets/MNIST_Data/train/train-labels-idx1-ubyte’\n",
            "\n",
            "train-labels-idx1-u 100%[===================>]  58.60K   354KB/s    in 0.2s    \n",
            "\n",
            "2023-03-02 16:54:56 (354 KB/s) - ‘./datasets/MNIST_Data/train/train-labels-idx1-ubyte’ saved [60008/60008]\n",
            "\n",
            "--2023-03-02 16:54:56--  https://mindspore-website.obs.myhuaweicloud.com/notebook/datasets/mnist/train-images-idx3-ubyte\n",
            "Resolving mindspore-website.obs.myhuaweicloud.com (mindspore-website.obs.myhuaweicloud.com)... 121.36.121.84, 49.4.112.92, 49.4.112.91\n",
            "Connecting to mindspore-website.obs.myhuaweicloud.com (mindspore-website.obs.myhuaweicloud.com)|121.36.121.84|:443... connected.\n",
            "HTTP request sent, awaiting response... 200 OK\n",
            "Length: 47040016 (45M) [binary/octet-stream]\n",
            "Saving to: ‘./datasets/MNIST_Data/train/train-images-idx3-ubyte’\n",
            "\n",
            "train-images-idx3-u 100%[===================>]  44.86M  25.9MB/s    in 1.7s    \n",
            "\n",
            "2023-03-02 16:54:58 (25.9 MB/s) - ‘./datasets/MNIST_Data/train/train-images-idx3-ubyte’ saved [47040016/47040016]\n",
            "\n",
            "--2023-03-02 16:54:59--  https://mindspore-website.obs.myhuaweicloud.com/notebook/datasets/mnist/t10k-labels-idx1-ubyte\n",
            "Resolving mindspore-website.obs.myhuaweicloud.com (mindspore-website.obs.myhuaweicloud.com)... 121.36.121.84, 49.4.112.92, 49.4.112.91\n",
            "Connecting to mindspore-website.obs.myhuaweicloud.com (mindspore-website.obs.myhuaweicloud.com)|121.36.121.84|:443... connected.\n",
            "HTTP request sent, awaiting response... 200 OK\n",
            "Length: 10008 (9.8K) [binary/octet-stream]\n",
            "Saving to: ‘./datasets/MNIST_Data/test/t10k-labels-idx1-ubyte’\n",
            "\n",
            "t10k-labels-idx1-ub 100%[===================>]   9.77K  --.-KB/s    in 0s      \n",
            "\n",
            "2023-03-02 16:54:59 (169 MB/s) - ‘./datasets/MNIST_Data/test/t10k-labels-idx1-ubyte’ saved [10008/10008]\n",
            "\n",
            "--2023-03-02 16:54:59--  https://mindspore-website.obs.myhuaweicloud.com/notebook/datasets/mnist/t10k-images-idx3-ubyte\n",
            "Resolving mindspore-website.obs.myhuaweicloud.com (mindspore-website.obs.myhuaweicloud.com)... 121.36.121.84, 49.4.112.92, 49.4.112.91\n",
            "Connecting to mindspore-website.obs.myhuaweicloud.com (mindspore-website.obs.myhuaweicloud.com)|121.36.121.84|:443... connected.\n",
            "HTTP request sent, awaiting response... 200 OK\n",
            "Length: 7840016 (7.5M) [binary/octet-stream]\n",
            "Saving to: ‘./datasets/MNIST_Data/test/t10k-images-idx3-ubyte’\n",
            "\n",
            "t10k-images-idx3-ub 100%[===================>]   7.48M  9.58MB/s    in 0.8s    \n",
            "\n",
            "2023-03-02 16:55:00 (9.58 MB/s) - ‘./datasets/MNIST_Data/test/t10k-images-idx3-ubyte’ saved [7840016/7840016]\n",
            "\n",
            "\u001b[01;34m./datasets/MNIST_Data\u001b[00m\n",
            "├── \u001b[01;34mtest\u001b[00m\n",
            "│   ├── t10k-images-idx3-ubyte\n",
            "│   └── t10k-labels-idx1-ubyte\n",
            "└── \u001b[01;34mtrain\u001b[00m\n",
            "    ├── train-images-idx3-ubyte\n",
            "    └── train-labels-idx1-ubyte\n",
            "\n",
            "2 directories, 4 files\n"
          ]
        }
      ]
    },
    {
      "cell_type": "code",
      "metadata": {
        "colab": {
          "base_uri": "https://localhost:8080/",
          "height": 417
        },
        "id": "_CnHSo0dPVSQ",
        "outputId": "e939c680-beb3-4687-9071-431aee4d7604"
      },
      "source": [
        "import os\n",
        "from mindspore import context\n",
        "context.set_context(mode=context.GRAPH_MODE, device_target=\"CPU\")\n",
        "import matplotlib.pyplot as plt\n",
        "import matplotlib\n",
        "import numpy as np\n",
        "import mindspore.dataset as ds\n",
        "\n",
        "train_data_path = \"./datasets/MNIST_Data/train\"\n",
        "test_data_path = \"./datasets/MNIST_Data/test\"\n",
        "ds.config.set_num_parallel_workers(1)\n",
        "mnist_ds = ds.MnistDataset(train_data_path)\n",
        "print('The type of mnist_ds:', type(mnist_ds))\n",
        "# print(\"Number of pictures contained in the mnist_ds：\", mnist_ds.get_dataset_size())\n",
        "\n",
        "dic_ds = mnist_ds.create_dict_iterator()\n",
        "item = next(dic_ds)\n",
        "img = item[\"image\"].asnumpy()\n",
        "label = item[\"label\"].asnumpy()\n",
        "\n",
        "print(\"The item of mnist_ds:\", item.keys())\n",
        "print(\"Tensor of image in item:\", img.shape)\n",
        "print(\"The label of item:\", label)\n",
        "\n",
        "plt.imshow(np.squeeze(img))\n",
        "plt.title(\"number:%s\"% item[\"label\"].asnumpy())\n",
        "plt.show()\n"
      ],
      "execution_count": 4,
      "outputs": [
        {
          "output_type": "stream",
          "name": "stderr",
          "text": [
            "[WARNING] ME(364:140425230722880,MainProcess):2023-03-02-16:54:34.943.333 [mindspore/run_check/_check_version.py:79] MindSpore version 1.10.0 and cuda version 11.8.89 does not match, CUDA version [['10.1', '11.1', '11.6']] are supported by MindSpore officially. Please refer to the installation guide for version matching information: https://www.mindspore.cn/install.\n"
          ]
        },
        {
          "output_type": "error",
          "ename": "ValueError",
          "evalue": "ignored",
          "traceback": [
            "\u001b[0;31m---------------------------------------------------------------------------\u001b[0m",
            "\u001b[0;31mValueError\u001b[0m                                Traceback (most recent call last)",
            "\u001b[0;32m<ipython-input-4-dce3282820f3>\u001b[0m in \u001b[0;36m<module>\u001b[0;34m\u001b[0m\n\u001b[1;32m     10\u001b[0m \u001b[0mtest_data_path\u001b[0m \u001b[0;34m=\u001b[0m \u001b[0;34m\"./datasets/MNIST_Data/test\"\u001b[0m\u001b[0;34m\u001b[0m\u001b[0;34m\u001b[0m\u001b[0m\n\u001b[1;32m     11\u001b[0m \u001b[0mds\u001b[0m\u001b[0;34m.\u001b[0m\u001b[0mconfig\u001b[0m\u001b[0;34m.\u001b[0m\u001b[0mset_num_parallel_workers\u001b[0m\u001b[0;34m(\u001b[0m\u001b[0;36m1\u001b[0m\u001b[0;34m)\u001b[0m\u001b[0;34m\u001b[0m\u001b[0;34m\u001b[0m\u001b[0m\n\u001b[0;32m---> 12\u001b[0;31m \u001b[0mmnist_ds\u001b[0m \u001b[0;34m=\u001b[0m \u001b[0mds\u001b[0m\u001b[0;34m.\u001b[0m\u001b[0mMnistDataset\u001b[0m\u001b[0;34m(\u001b[0m\u001b[0mtrain_data_path\u001b[0m\u001b[0;34m)\u001b[0m\u001b[0;34m\u001b[0m\u001b[0;34m\u001b[0m\u001b[0m\n\u001b[0m\u001b[1;32m     13\u001b[0m \u001b[0mprint\u001b[0m\u001b[0;34m(\u001b[0m\u001b[0;34m'The type of mnist_ds:'\u001b[0m\u001b[0;34m,\u001b[0m \u001b[0mtype\u001b[0m\u001b[0;34m(\u001b[0m\u001b[0mmnist_ds\u001b[0m\u001b[0;34m)\u001b[0m\u001b[0;34m)\u001b[0m\u001b[0;34m\u001b[0m\u001b[0;34m\u001b[0m\u001b[0m\n\u001b[1;32m     14\u001b[0m \u001b[0;31m# print(\"Number of pictures contained in the mnist_ds：\", mnist_ds.get_dataset_size())\u001b[0m\u001b[0;34m\u001b[0m\u001b[0;34m\u001b[0m\u001b[0;34m\u001b[0m\u001b[0m\n",
            "\u001b[0;32m/usr/local/lib/python3.8/dist-packages/mindspore/dataset/engine/validators.py\u001b[0m in \u001b[0;36mnew_method\u001b[0;34m(self, *args, **kwargs)\u001b[0m\n\u001b[1;32m    345\u001b[0m \u001b[0;34m\u001b[0m\u001b[0m\n\u001b[1;32m    346\u001b[0m         \u001b[0mdataset_dir\u001b[0m \u001b[0;34m=\u001b[0m \u001b[0mparam_dict\u001b[0m\u001b[0;34m.\u001b[0m\u001b[0mget\u001b[0m\u001b[0;34m(\u001b[0m\u001b[0;34m'dataset_dir'\u001b[0m\u001b[0;34m)\u001b[0m\u001b[0;34m\u001b[0m\u001b[0;34m\u001b[0m\u001b[0m\n\u001b[0;32m--> 347\u001b[0;31m         \u001b[0mcheck_dir\u001b[0m\u001b[0;34m(\u001b[0m\u001b[0mdataset_dir\u001b[0m\u001b[0;34m)\u001b[0m\u001b[0;34m\u001b[0m\u001b[0;34m\u001b[0m\u001b[0m\n\u001b[0m\u001b[1;32m    348\u001b[0m \u001b[0;34m\u001b[0m\u001b[0m\n\u001b[1;32m    349\u001b[0m         \u001b[0musage\u001b[0m \u001b[0;34m=\u001b[0m \u001b[0mparam_dict\u001b[0m\u001b[0;34m.\u001b[0m\u001b[0mget\u001b[0m\u001b[0;34m(\u001b[0m\u001b[0;34m'usage'\u001b[0m\u001b[0;34m)\u001b[0m\u001b[0;34m\u001b[0m\u001b[0;34m\u001b[0m\u001b[0m\n",
            "\u001b[0;32m/usr/local/lib/python3.8/dist-packages/mindspore/dataset/core/validator_helpers.py\u001b[0m in \u001b[0;36mcheck_dir\u001b[0;34m(dataset_dir)\u001b[0m\n\u001b[1;32m    560\u001b[0m     \u001b[0mtype_check\u001b[0m\u001b[0;34m(\u001b[0m\u001b[0mdataset_dir\u001b[0m\u001b[0;34m,\u001b[0m \u001b[0;34m(\u001b[0m\u001b[0mstr\u001b[0m\u001b[0;34m,\u001b[0m\u001b[0;34m)\u001b[0m\u001b[0;34m,\u001b[0m \u001b[0;34m\"dataset_dir\"\u001b[0m\u001b[0;34m)\u001b[0m\u001b[0;34m\u001b[0m\u001b[0;34m\u001b[0m\u001b[0m\n\u001b[1;32m    561\u001b[0m     \u001b[0;32mif\u001b[0m \u001b[0;32mnot\u001b[0m \u001b[0mos\u001b[0m\u001b[0;34m.\u001b[0m\u001b[0mpath\u001b[0m\u001b[0;34m.\u001b[0m\u001b[0misdir\u001b[0m\u001b[0;34m(\u001b[0m\u001b[0mdataset_dir\u001b[0m\u001b[0;34m)\u001b[0m \u001b[0;32mor\u001b[0m \u001b[0;32mnot\u001b[0m \u001b[0mos\u001b[0m\u001b[0;34m.\u001b[0m\u001b[0maccess\u001b[0m\u001b[0;34m(\u001b[0m\u001b[0mdataset_dir\u001b[0m\u001b[0;34m,\u001b[0m \u001b[0mos\u001b[0m\u001b[0;34m.\u001b[0m\u001b[0mR_OK\u001b[0m\u001b[0;34m)\u001b[0m\u001b[0;34m:\u001b[0m\u001b[0;34m\u001b[0m\u001b[0;34m\u001b[0m\u001b[0m\n\u001b[0;32m--> 562\u001b[0;31m         \u001b[0;32mraise\u001b[0m \u001b[0mValueError\u001b[0m\u001b[0;34m(\u001b[0m\u001b[0;34m\"The folder {} does not exist or is not a directory or permission denied!\"\u001b[0m\u001b[0;34m.\u001b[0m\u001b[0mformat\u001b[0m\u001b[0;34m(\u001b[0m\u001b[0mdataset_dir\u001b[0m\u001b[0;34m)\u001b[0m\u001b[0;34m)\u001b[0m\u001b[0;34m\u001b[0m\u001b[0;34m\u001b[0m\u001b[0m\n\u001b[0m\u001b[1;32m    563\u001b[0m \u001b[0;34m\u001b[0m\u001b[0m\n\u001b[1;32m    564\u001b[0m \u001b[0;34m\u001b[0m\u001b[0m\n",
            "\u001b[0;31mValueError\u001b[0m: The folder ./datasets/MNIST_Data/train does not exist or is not a directory or permission denied!"
          ]
        }
      ]
    },
    {
      "cell_type": "code",
      "metadata": {
        "colab": {
          "base_uri": "https://localhost:8080/"
        },
        "id": "mv48Y53PPkAH",
        "outputId": "b484dd3b-e0a3-4986-df44-1dcb37e3e23e"
      },
      "source": [
        "from mindspore.dataset.vision import HWC2CHW, Rescale, Resize\n",
        "from  mindspore.dataset.transforms import TypeCast\n",
        "from mindspore.dataset.vision import Inter\n",
        "from mindspore import dtype as mstype\n",
        "\n",
        "\n",
        "def create_dataset(data_path, batch_size=32, repeat_size=1,\n",
        "                   num_parallel_workers=1):\n",
        "    \"\"\"\n",
        "    create dataset for train or test\n",
        "\n",
        "    Args:\n",
        "        data_path (str): Data path\n",
        "        batch_size (int): The number of data records in each group\n",
        "        repeat_size (int): The number of replicated data records\n",
        "        num_parallel_workers (int): The number of parallel workers\n",
        "    \"\"\"\n",
        "    # define dataset\n",
        "    mnist_ds = ds.MnistDataset(data_path)\n",
        "\n",
        "    # define some parameters needed for data enhancement and rough justification\n",
        "    resize_height, resize_width = 32, 32\n",
        "    rescale = 1.0 / 255.0\n",
        "    shift = 0.0\n",
        "    rescale_nml = 1 / 0.3081\n",
        "    shift_nml = -1 * 0.1307 / 0.3081\n",
        "\n",
        "    # according to the parameters, generate the corresponding data enhancement method\n",
        "    resize_op = Resize((resize_height, resize_width), interpolation=Inter.LINEAR)\n",
        "    rescale_nml_op = Rescale(rescale_nml, shift_nml)\n",
        "    rescale_op = Rescale(rescale, shift)\n",
        "    hwc2chw_op = HWC2CHW()\n",
        "    type_cast_op = TypeCast(mstype.int32)\n",
        "\n",
        "    # using map to apply operations to a dataset\n",
        "    mnist_ds = mnist_ds.map(operations=type_cast_op, input_columns=\"label\", num_parallel_workers=num_parallel_workers)\n",
        "    mnist_ds = mnist_ds.map(operations=resize_op, input_columns=\"image\", num_parallel_workers=num_parallel_workers)\n",
        "    mnist_ds = mnist_ds.map(operations=rescale_op, input_columns=\"image\", num_parallel_workers=num_parallel_workers)\n",
        "    mnist_ds = mnist_ds.map(operations=rescale_nml_op, input_columns=\"image\", num_parallel_workers=num_parallel_workers)\n",
        "    mnist_ds = mnist_ds.map(operations=hwc2chw_op, input_columns=\"image\", num_parallel_workers=num_parallel_workers)\n",
        "\n",
        "    # process the generated dataset\n",
        "    buffer_size = 10000\n",
        "    mnist_ds = mnist_ds.shuffle(buffer_size=buffer_size)\n",
        "    mnist_ds = mnist_ds.batch(batch_size, drop_remainder=True)\n",
        "    mnist_ds = mnist_ds.repeat(repeat_size)\n",
        "\n",
        "    return mnist_ds\n",
        "\n",
        "ms_dataset = create_dataset(train_data_path)\n",
        "print('Number of groups in the dataset:', ms_dataset.get_dataset_size())\n"
      ],
      "execution_count": 9,
      "outputs": [
        {
          "output_type": "stream",
          "name": "stdout",
          "text": [
            "Number of groups in the dataset: 1875\n"
          ]
        }
      ]
    },
    {
      "cell_type": "code",
      "metadata": {
        "id": "TjZC89BqPpbZ",
        "colab": {
          "base_uri": "https://localhost:8080/"
        },
        "outputId": "f7ebcb74-4339-4673-93fc-6f527d5a5e89"
      },
      "source": [
        "data = next(ms_dataset.create_dict_iterator(output_numpy=True))\n",
        "images = data[\"image\"]\n",
        "labels = data[\"label\"]\n",
        "print('Tensor of image:', images.shape)\n",
        "print('Labels:', labels)\n"
      ],
      "execution_count": 10,
      "outputs": [
        {
          "output_type": "stream",
          "name": "stdout",
          "text": [
            "Tensor of image: (32, 1, 32, 32)\n",
            "Labels: [6 8 6 6 2 7 5 2 4 1 9 3 6 1 7 3 1 3 8 4 1 1 6 7 5 6 1 5 7 8 9 7]\n"
          ]
        }
      ]
    },
    {
      "cell_type": "code",
      "metadata": {
        "id": "NH_L0BNgPr_f",
        "colab": {
          "base_uri": "https://localhost:8080/",
          "height": 253
        },
        "outputId": "272805d8-15ba-40b6-c314-2f43f5485b05"
      },
      "source": [
        "count = 1\n",
        "for i in images:\n",
        "    plt.subplot(4, 8, count)\n",
        "    plt.imshow(np.squeeze(i))\n",
        "    plt.title('num:%s'%labels[count-1])\n",
        "    plt.xticks([])\n",
        "    count += 1\n",
        "    plt.axis(\"off\")\n",
        "plt.show()\n"
      ],
      "execution_count": 11,
      "outputs": [
        {
          "output_type": "display_data",
          "data": {
            "text/plain": [
              "<Figure size 432x288 with 32 Axes>"
            ],
            "image/png": "[encoded data removed]"
          },
          "metadata": {
            "needs_background": "light"
          }
        }
      ]
    },
    {
      "cell_type": "markdown",
      "source": [
        "## Building the LeNet Model"
      ],
      "metadata": {
        "id": "jgSJ1zHgSk7B"
      }
    },
    {
      "cell_type": "code",
      "metadata": {
        "id": "IwWz6jHgPr0d",
        "colab": {
          "base_uri": "https://localhost:8080/"
        },
        "outputId": "438b5afb-6718-43c1-845a-74e84fe986ba"
      },
      "source": [
        "import mindspore.nn as nn\n",
        "from mindspore.common.initializer import Normal\n",
        "\n",
        "class LeNet5(nn.Cell):\n",
        "    \"\"\"Lenet network structure.\"\"\"\n",
        "    # define the operator required\n",
        "    def __init__(self, num_class=10, num_channel=1):\n",
        "        super(LeNet5, self).__init__()\n",
        "        self.name=\"LeNet5\"\n",
        "        self.conv1 = nn.Conv2d(in_channels=num_channel, out_channels=6, kernel_size = (5,5), pad_mode='valid')\n",
        "        self.conv2 = nn.Conv2d(in_channels=6, out_channels=16, kernel_size = (5,5), pad_mode = 'valid')\n",
        "        self.fc1 = nn.Dense(16 * 5 * 5, 120, weight_init=Normal(0.02))\n",
        "        self.fc2 = nn.Dense(120, 84, weight_init=Normal(0.02))\n",
        "        self.fc3 = nn.Dense(84, num_class, weight_init=Normal(0.02))\n",
        "        self.relu = nn.ReLU()\n",
        "        self.softmax = nn.Softmax()\n",
        "        self.max_pool2d = nn.MaxPool2d(kernel_size=2, stride=2)\n",
        "        self.flatten = nn.Flatten()\n",
        "\n",
        "    # use the preceding operators to construct networks\n",
        "    def construct(self, x):\n",
        "        x = self.max_pool2d(self.relu(self.conv1(x)))\n",
        "        x = self.max_pool2d(self.relu(self.conv2(x)))\n",
        "        x = self.flatten(x)\n",
        "        x = self.relu(self.fc1(x))\n",
        "        x = self.relu(self.fc2(x))\n",
        "        x = self.fc3(x)\n",
        "        return x\n",
        "\n",
        "network = LeNet5()\n",
        "print(\"layer conv1:\", network.conv1)\n",
        "print(\"*\"*40)\n",
        "print(\"layer fc1:\", network.fc1)\n"
      ],
      "execution_count": 12,
      "outputs": [
        {
          "output_type": "stream",
          "name": "stdout",
          "text": [
            "layer conv1: Conv2d<input_channels=1, output_channels=6, kernel_size=(5, 5), stride=(1, 1), pad_mode=valid, padding=0, dilation=(1, 1), group=1, has_bias=False, weight_init=normal, bias_init=zeros, format=NCHW>\n",
            "****************************************\n",
            "layer fc1: Dense<input_channels=400, output_channels=120, has_bias=True>\n"
          ]
        }
      ]
    },
    {
      "cell_type": "code",
      "metadata": {
        "id": "zzoT3hAMPwtj"
      },
      "source": [
        "from mindspore.train.callback import Callback\n",
        "\n",
        "# custom callback function\n",
        "class StepLossAccInfo(Callback):\n",
        "    def __init__(self, model, eval_dataset, steps_loss, steps_eval):\n",
        "        self.model = model\n",
        "        self.eval_dataset = eval_dataset\n",
        "        self.steps_loss = steps_loss\n",
        "        self.steps_eval = steps_eval\n",
        "\n",
        "    def step_end(self, run_context):\n",
        "        cb_params = run_context.original_args()\n",
        "        cur_epoch = cb_params.cur_epoch_num\n",
        "        cur_step = (cur_epoch-1)*1875 + cb_params.cur_step_num # 1875\n",
        "        self.steps_loss[\"loss_value\"].append(str(cb_params.net_outputs))\n",
        "        self.steps_loss[\"step\"].append(str(cur_step))\n",
        "        if cur_step % 125 == 0:\n",
        "            acc = self.model.eval(self.eval_dataset, dataset_sink_mode=False)\n",
        "            self.steps_eval[\"step\"].append(cur_step)\n",
        "            self.steps_eval[\"acc\"].append(acc[\"Accuracy\"])\n"
      ],
      "execution_count": 13,
      "outputs": []
    },
    {
      "cell_type": "code",
      "metadata": {
        "id": "3ltYgw1ZP1dW"
      },
      "source": [
        "import mindspore.nn as nn\n",
        "from mindspore.nn import SoftmaxCrossEntropyWithLogits\n",
        "\n",
        "lr = 0.01\n",
        "#momentum = 0.9\n",
        "\n",
        "# create the network\n",
        "network = LeNet5()\n",
        "\n",
        "# define the optimizer\n",
        "#net_opt = nn.Momentum(network.trainable_params(), lr, momentum)\n",
        "net_opt = nn.SGD(network.trainable_params(), learning_rate=lr)\n",
        "\n",
        "# define the loss function\n",
        "net_loss = SoftmaxCrossEntropyWithLogits(sparse=True, reduction='mean')\n"
      ],
      "execution_count": 14,
      "outputs": []
    },
    {
      "cell_type": "code",
      "metadata": {
        "id": "NOCHjUQmP3cA",
        "colab": {
          "base_uri": "https://localhost:8080/"
        },
        "outputId": "ebec500d-b82a-4cb2-ff12-b96a32dd98f4"
      },
      "source": [
        "import os\n",
        "from mindspore import Tensor, Model\n",
        "from mindspore.train.callback import ModelCheckpoint, CheckpointConfig, LossMonitor\n",
        "from mindspore.nn import Accuracy\n",
        "\n",
        "epoch_size = 5\n",
        "mnist_path = \"./datasets/MNIST_Data\"\n",
        "model_path = \"./models/ckpt/mindspore_mnist/\"\n",
        "\n",
        "repeat_size = 1\n",
        "ds_train = create_dataset(os.path.join(mnist_path, \"train\"), 32, repeat_size)\n",
        "eval_dataset = create_dataset(os.path.join(mnist_path, \"test\"), 32)\n",
        "\n",
        "# clean up old run files before in Linux\n",
        "os.system('rm -f {0}*.ckpt {0}*.meta {0}*.pb'.format(model_path))\n",
        "os.system('rm -rf ./rank_0')\n",
        "\n",
        "# define the model\n",
        "model = Model(network, net_loss, net_opt, metrics={\"Accuracy\": Accuracy()} )\n",
        "\n",
        "# save the network model and parameters for subsequence fine-tuning\n",
        "config_ck = CheckpointConfig(save_checkpoint_steps=375, keep_checkpoint_max=16)\n",
        "# group layers into an object with training and evaluation features\n",
        "ckpoint_cb = ModelCheckpoint(prefix=\"checkpoint_lenet\", directory=model_path, config=config_ck)\n",
        "\n",
        "steps_loss = {\"step\": [], \"loss_value\": []}\n",
        "steps_eval = {\"step\": [], \"acc\": []}\n",
        "# collect the steps,loss and accuracy information\n",
        "step_loss_acc_info = StepLossAccInfo(model , eval_dataset, steps_loss, steps_eval)\n",
        "\n",
        "model.train(epoch_size, ds_train, callbacks=[ckpoint_cb, LossMonitor(125), step_loss_acc_info], dataset_sink_mode=False)\n"
      ],
      "execution_count": null,
      "outputs": [
        {
          "output_type": "stream",
          "name": "stderr",
          "text": [
            "[WARNING] ME(38110:140582090090304,MainProcess):2023-03-02-16:43:04.180.252 [mindspore/train/model.py:1077] For StepLossAccInfo callback, {'step_end'} methods may not be supported in later version, Use methods prefixed with 'on_train' or 'on_eval' instead when using customized callbacks.\n"
          ]
        },
        {
          "output_type": "stream",
          "name": "stdout",
          "text": [
            "epoch: 1 step: 125, loss is 2.293300151824951\n",
            "epoch: 1 step: 250, loss is 2.3091752529144287\n",
            "epoch: 1 step: 375, loss is 2.303115129470825\n",
            "epoch: 1 step: 500, loss is 2.2983102798461914\n",
            "epoch: 1 step: 625, loss is 2.2939865589141846\n",
            "epoch: 1 step: 750, loss is 2.285912275314331\n",
            "epoch: 1 step: 875, loss is 2.302595615386963\n",
            "epoch: 1 step: 1000, loss is 2.293665647506714\n",
            "epoch: 1 step: 1125, loss is 2.313196897506714\n",
            "epoch: 1 step: 1250, loss is 2.300870418548584\n",
            "epoch: 1 step: 1375, loss is 2.295161247253418\n",
            "epoch: 1 step: 1500, loss is 2.29449462890625\n",
            "epoch: 1 step: 1625, loss is 2.2786622047424316\n",
            "epoch: 1 step: 1750, loss is 2.3055167198181152\n",
            "epoch: 1 step: 1875, loss is 2.2773754596710205\n",
            "epoch: 2 step: 125, loss is 2.0976052284240723\n",
            "epoch: 2 step: 250, loss is 1.6202727556228638\n",
            "epoch: 2 step: 375, loss is 0.8531432747840881\n",
            "epoch: 2 step: 500, loss is 0.5185287594795227\n",
            "epoch: 2 step: 625, loss is 0.3710860013961792\n",
            "epoch: 2 step: 750, loss is 0.5670905709266663\n",
            "epoch: 2 step: 875, loss is 0.5333441495895386\n",
            "epoch: 2 step: 1000, loss is 0.8680202960968018\n",
            "epoch: 2 step: 1125, loss is 0.5297040343284607\n",
            "epoch: 2 step: 1250, loss is 0.4586714506149292\n",
            "epoch: 2 step: 1375, loss is 0.35364776849746704\n",
            "epoch: 2 step: 1500, loss is 0.10006066411733627\n",
            "epoch: 2 step: 1625, loss is 0.34673261642456055\n",
            "epoch: 2 step: 1750, loss is 0.13822178542613983\n",
            "epoch: 2 step: 1875, loss is 0.3502727150917053\n",
            "epoch: 3 step: 125, loss is 0.13755550980567932\n",
            "epoch: 3 step: 250, loss is 0.09010892361402512\n",
            "epoch: 3 step: 375, loss is 0.05388736352324486\n",
            "epoch: 3 step: 500, loss is 0.09241458773612976\n",
            "epoch: 3 step: 625, loss is 0.2824481427669525\n",
            "epoch: 3 step: 750, loss is 0.2240632027387619\n",
            "epoch: 3 step: 875, loss is 0.14855656027793884\n",
            "epoch: 3 step: 1000, loss is 0.14291521906852722\n",
            "epoch: 3 step: 1125, loss is 0.23267494142055511\n",
            "epoch: 3 step: 1250, loss is 0.3180042505264282\n",
            "epoch: 3 step: 1375, loss is 0.10338436812162399\n",
            "epoch: 3 step: 1500, loss is 0.07053984701633453\n",
            "epoch: 3 step: 1625, loss is 0.04755884408950806\n",
            "epoch: 3 step: 1750, loss is 0.022586839273571968\n",
            "epoch: 3 step: 1875, loss is 0.36625465750694275\n",
            "epoch: 4 step: 125, loss is 0.173122376203537\n",
            "epoch: 4 step: 250, loss is 0.11854609847068787\n",
            "epoch: 4 step: 375, loss is 0.152448832988739\n",
            "epoch: 4 step: 500, loss is 0.13800165057182312\n",
            "epoch: 4 step: 625, loss is 0.17431451380252838\n",
            "epoch: 4 step: 750, loss is 0.2193138599395752\n",
            "epoch: 4 step: 875, loss is 0.08608190715312958\n",
            "epoch: 4 step: 1000, loss is 0.16451455652713776\n",
            "epoch: 4 step: 1125, loss is 0.07404760271310806\n",
            "epoch: 4 step: 1250, loss is 0.06306949257850647\n",
            "epoch: 4 step: 1375, loss is 0.1661306470632553\n",
            "epoch: 4 step: 1500, loss is 0.021939948201179504\n",
            "epoch: 4 step: 1625, loss is 0.3699009418487549\n",
            "epoch: 4 step: 1750, loss is 0.05882592871785164\n",
            "epoch: 4 step: 1875, loss is 0.20558710396289825\n"
          ]
        }
      ]
    },
    {
      "cell_type": "code",
      "metadata": {
        "id": "lWwVcpNUP6sx",
        "colab": {
          "base_uri": "https://localhost:8080/",
          "height": 295
        },
        "outputId": "d3009966-a658-435d-d95e-92f285d4f847"
      },
      "source": [
        "steps = steps_loss[\"step\"]\n",
        "loss_value = steps_loss[\"loss_value\"]\n",
        "steps = list(map(int, steps))\n",
        "loss_value = list(map(float, loss_value))\n",
        "plt.plot(steps, loss_value, color=\"red\")\n",
        "plt.xlabel(\"Steps\")\n",
        "plt.ylabel(\"Loss_value\")\n",
        "plt.title(\"Change chart of model loss value\")\n",
        "plt.show()\n"
      ],
      "execution_count": 16,
      "outputs": [
        {
          "output_type": "display_data",
          "data": {
            "text/plain": [
              "<Figure size 432x288 with 1 Axes>"
            ],
            "image/png": "[encoded data removed]"
          },
          "metadata": {
            "needs_background": "light"
          }
        }
      ]
    },
    {
      "cell_type": "markdown",
      "source": [
        "# Prediction"
      ],
      "metadata": {
        "id": "dDjzywqa_dIO"
      }
    },
    {
      "cell_type": "code",
      "metadata": {
        "id": "oK3XErIgP_gz",
        "colab": {
          "base_uri": "https://localhost:8080/"
        },
        "outputId": "23dac71f-ca3d-4145-f371-39cb5c6ba16e"
      },
      "source": [
        "from mindspore import load_checkpoint, load_param_into_net\n",
        "\n",
        "# testing relate modules\n",
        "def test_net(network, model, mnist_path):\n",
        "    \"\"\"Define the evaluation method.\"\"\"\n",
        "    print(\"============== Starting Testing ==============\")\n",
        "    # load the saved model for evaluation\n",
        "    param_dict = load_checkpoint(\"./models/ckpt/mindspore_mnist/checkpoint_lenet-10_468.ckpt\")\n",
        "    # load parameter to the network\n",
        "    load_param_into_net(network, param_dict)\n",
        "    # load testing dataset\n",
        "    ds_eval = create_dataset(os.path.join(mnist_path, \"test\"))\n",
        "    acc = model.eval(ds_eval, dataset_sink_mode=False)\n",
        "    print(\"============== Accuracy:{} ==============\".format(acc))\n",
        "\n",
        "test_net(network, model, mnist_path)\n"
      ],
      "execution_count": 18,
      "outputs": [
        {
          "output_type": "stream",
          "name": "stdout",
          "text": [
            "============== Starting Testing ==============\n",
            "============== Accuracy:{'Accuracy': 0.11358173076923077} ==============\n"
          ]
        }
      ]
    },
    {
      "cell_type": "code",
      "metadata": {
        "id": "bfCyu3rLQB5r",
        "colab": {
          "base_uri": "https://localhost:8080/",
          "height": 295
        },
        "outputId": "2418b200-1a38-412d-de1e-2f0e071622e1"
      },
      "source": [
        "def eval_show(steps_eval):\n",
        "    plt.xlabel(\"step number\")\n",
        "    plt.ylabel(\"Model accuracy\")\n",
        "    plt.title(\"Model accuracy variation chart\")\n",
        "    plt.plot(steps_eval[\"step\"], steps_eval[\"acc\"], \"red\")\n",
        "    plt.show()\n",
        "\n",
        "eval_show(steps_eval)\n"
      ],
      "execution_count": 55,
      "outputs": [
        {
          "output_type": "display_data",
          "data": {
            "text/plain": [
              "<Figure size 432x288 with 1 Axes>"
            ],
            "image/png": "[encoded data removed]"
          },
          "metadata": {
            "needs_background": "light"
          }
        }
      ]
    },
    {
      "cell_type": "code",
      "metadata": {
        "id": "ljdPtw0DQGMk",
        "colab": {
          "base_uri": "https://localhost:8080/",
          "height": 305
        },
        "outputId": "7eebd366-2240-4176-dfad-451bc4ce2c56"
      },
      "source": [
        "ds_test = create_dataset(test_data_path).create_dict_iterator()\n",
        "data = next(ds_test)\n",
        "images = data[\"image\"].asnumpy()\n",
        "labels = data[\"label\"].asnumpy()\n",
        "\n",
        "\n",
        "output = model.predict(Tensor(data['image']))\n",
        "pred = np.argmax(output.asnumpy(), axis=1)\n",
        "err_num = []\n",
        "index = 1\n",
        "for i in range(len(labels)):\n",
        "    plt.subplot(4, 8, i+1)\n",
        "    color = 'blue' if pred[i] == labels[i] else 'red'\n",
        "    plt.title(\"pre:{}\".format(pred[i]), color=color)\n",
        "    plt.imshow(np.squeeze(images[i]))\n",
        "    plt.axis(\"off\")\n",
        "    if color == 'red':\n",
        "        index = 0\n",
        "        print(\"Row {}, column {} is incorrectly identified as {}, the correct value should be {}\".format(int(i/8)+1, i%8+1, pred[i], labels[i]), '\\n')\n",
        "if index:\n",
        "    print(\"All the figures in this group are predicted correctly!\")\n",
        "print(pred, \"<--Predicted figures\")\n",
        "print(labels, \"<--The right number\")\n",
        "plt.show()\n"
      ],
      "execution_count": 56,
      "outputs": [
        {
          "output_type": "stream",
          "name": "stdout",
          "text": [
            "All the figures in this group are predicted correctly!\n",
            "[3 1 3 3 3 5 1 6 3 7 4 6 9 5 1 6 4 3 7 7 2 3 8 9 1 2 2 1 2 3 5 9] <--Predicted figures\n",
            "[3 1 3 3 3 5 1 6 3 7 4 6 9 5 1 6 4 3 7 7 2 3 8 9 1 2 2 1 2 3 5 9] <--The right number\n"
          ]
        },
        {
          "output_type": "display_data",
          "data": {
            "text/plain": [
              "<Figure size 432x288 with 32 Axes>"
            ],
            "image/png": "[encoded data removed]"
          },
          "metadata": {
            "needs_background": "light"
          }
        }
      ]
    },
    {
      "cell_type": "markdown",
      "source": [
        "# Confusion Matrix"
      ],
      "metadata": {
        "id": "krsEg9t2_zuP"
      }
    }
  ]
}