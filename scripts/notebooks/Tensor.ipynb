{
 "cells": [
  {
   "cell_type": "markdown",
   "id": "a202bdbb",
   "metadata": {},
   "source": [
    "# Tensor"
   ]
  },
  {
   "cell_type": "markdown",
   "id": "6378fafc",
   "metadata": {},
   "source": [
    "https://www.mindspore.cn/tutorials/en/r1.9/beginner/tensor.html"
   ]
  },
  {
   "cell_type": "code",
   "execution_count": 1,
   "id": "c203feb5",
   "metadata": {},
   "outputs": [],
   "source": [
    "import numpy as np\n",
    "import mindspore\n",
    "from mindspore import ops\n",
    "from mindspore import Tensor, CSRTensor, COOTensor, RowTensor"
   ]
  },
  {
   "cell_type": "code",
   "execution_count": 2,
   "id": "59192cc2",
   "metadata": {},
   "outputs": [],
   "source": [
    "data = [1, 0, 1, 0]\n",
    "x_data = Tensor(data)"
   ]
  },
  {
   "cell_type": "code",
   "execution_count": 4,
   "id": "da777b9d",
   "metadata": {},
   "outputs": [],
   "source": [
    "np_array = np.array(data)\n",
    "x_np = Tensor(np_array)"
   ]
  },
  {
   "cell_type": "code",
   "execution_count": 5,
   "id": "1a2c21e4",
   "metadata": {},
   "outputs": [
    {
     "name": "stdout",
     "output_type": "stream",
     "text": [
      "tensor1:\n",
      " [[1. 1.]\n",
      " [1. 1.]]\n",
      "tensor2:\n",
      " [[ 0.00183624 -0.00549946]\n",
      " [-0.01307846 -0.00878453]]\n"
     ]
    }
   ],
   "source": [
    "from mindspore.common.initializer import One, Normal\n",
    "\n",
    "# Initialize a tensor with ones\n",
    "tensor1 = mindspore.Tensor(shape=(2, 2), dtype=mindspore.float32, init=One())\n",
    "# Initialize a tensor from normal distribution\n",
    "tensor2 = mindspore.Tensor(shape=(2, 2), dtype=mindspore.float32, init=Normal())\n",
    "\n",
    "print(\"tensor1:\\n\", tensor1)\n",
    "print(\"tensor2:\\n\", tensor2)\n"
   ]
  },
  {
   "cell_type": "code",
   "execution_count": 6,
   "id": "230aa608",
   "metadata": {},
   "outputs": [
    {
     "name": "stdout",
     "output_type": "stream",
     "text": [
      "Ones Tensor: \n",
      " [1 1 1 1] \n",
      "\n",
      "Zeros Tensor: \n",
      " [0 0 0 0] \n",
      "\n"
     ]
    }
   ],
   "source": [
    "from mindspore import ops\n",
    "\n",
    "x_ones = ops.ones_like(x_data)\n",
    "print(f\"Ones Tensor: \\n {x_ones} \\n\")\n",
    "\n",
    "x_zeros = ops.zeros_like(x_data)\n",
    "print(f\"Zeros Tensor: \\n {x_zeros} \\n\")"
   ]
  },
  {
   "cell_type": "markdown",
   "id": "29b5301b",
   "metadata": {},
   "source": [
    "## Atributos de um Tensor"
   ]
  },
  {
   "cell_type": "code",
   "execution_count": 7,
   "id": "ef785629",
   "metadata": {},
   "outputs": [
    {
     "name": "stdout",
     "output_type": "stream",
     "text": [
      "x_shape: (2, 2)\n",
      "x_dtype: Int32\n",
      "x_itemsize: 4\n",
      "x_nbytes: 16\n",
      "x_ndim: 2\n",
      "x_size: 4\n",
      "x_strides: (8, 4)\n"
     ]
    }
   ],
   "source": [
    "x = Tensor(np.array([[1, 2], [3, 4]]), mindspore.int32)\n",
    "\n",
    "print(\"x_shape:\", x.shape)\n",
    "print(\"x_dtype:\", x.dtype)\n",
    "print(\"x_itemsize:\", x.itemsize)\n",
    "print(\"x_nbytes:\", x.nbytes)\n",
    "print(\"x_ndim:\", x.ndim)\n",
    "print(\"x_size:\", x.size)\n",
    "print(\"x_strides:\", x.strides)"
   ]
  },
  {
   "cell_type": "markdown",
   "id": "36f4be46",
   "metadata": {},
   "source": [
    "## Indexando um Tensor\n"
   ]
  },
  {
   "cell_type": "code",
   "execution_count": 8,
   "id": "99aef7ed",
   "metadata": {},
   "outputs": [
    {
     "name": "stdout",
     "output_type": "stream",
     "text": [
      "First row: [0. 1.]\n",
      "value of bottom right corner: 3.0\n",
      "Last column: [1. 3.]\n",
      "First column: [0. 2.]\n"
     ]
    }
   ],
   "source": [
    "tensor = Tensor(np.array([[0, 1], [2, 3]]).astype(np.float32))\n",
    "\n",
    "print(\"First row: {}\".format(tensor[0]))\n",
    "print(\"value of bottom right corner: {}\".format(tensor[1, 1]))\n",
    "print(\"Last column: {}\".format(tensor[:, -1]))\n",
    "print(\"First column: {}\".format(tensor[..., 0]))"
   ]
  }
 ],
 "metadata": {
  "kernelspec": {
   "display_name": "Python 3 (ipykernel)",
   "language": "python",
   "name": "python3"
  },
  "language_info": {
   "codemirror_mode": {
    "name": "ipython",
    "version": 3
   },
   "file_extension": ".py",
   "mimetype": "text/x-python",
   "name": "python",
   "nbconvert_exporter": "python",
   "pygments_lexer": "ipython3",
   "version": "3.9.16"
  }
 },
 "nbformat": 4,
 "nbformat_minor": 5
}
